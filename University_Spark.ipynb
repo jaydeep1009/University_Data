{
 "cells": [
  {
   "cell_type": "code",
   "execution_count": 2,
   "metadata": {},
   "outputs": [
    {
     "name": "stderr",
     "output_type": "stream",
     "text": [
      "C:\\Users\\2094072\\AppData\\Local\\Continuum\\anaconda2\\lib\\site-packages\\pyspark\\context.py:227: DeprecationWarning: Support for Python 2 and Python 3 prior to version 3.6 is deprecated as of Spark 3.0. See also the plan for dropping Python 2 support at https://spark.apache.org/news/plan-for-dropping-python-2-support.html.\n",
      "  DeprecationWarning)\n"
     ]
    },
    {
     "name": "stdout",
     "output_type": "stream",
     "text": [
      "root\n",
      " |-- roll_no: integer (nullable = true)\n",
      " |-- dip_code: integer (nullable = true)\n",
      " |-- name: string (nullable = true)\n",
      " |-- phone_no: long (nullable = true)\n",
      " |-- gmail: string (nullable = true)\n",
      " |-- address: string (nullable = true)\n",
      "\n",
      "root\n",
      " |-- roll_no: integer (nullable = true)\n",
      " |-- dip_code: integer (nullable = true)\n",
      " |-- Ssc: double (nullable = true)\n",
      " |-- Hsc: double (nullable = true)\n",
      " |-- Gre: double (nullable = true)\n",
      " |-- Staus: string (nullable = true)\n",
      " |-- Year: integer (nullable = true)\n",
      "\n",
      "root\n",
      " |-- dip_code: integer (nullable = true)\n",
      " |-- dip_name: string (nullable = true)\n",
      " |-- Capacity: integer (nullable = true)\n",
      " |-- fees: integer (nullable = true)\n",
      " |-- Colleges: integer (nullable = true)\n",
      "\n"
     ]
    }
   ],
   "source": [
    "import matplotlib.pyplot as plt\n",
    "from pyspark.sql import SparkSession\n",
    "from pylab import rcParams\n",
    "\n",
    "spark = SparkSession.builder.appName(\"Sparkpro1\").getOrCreate()\n",
    "#student_personal_data\n",
    "df = spark.read.format(\"csv\").option(\"header\", \"true\").option(\"inferSchema\", \"true\").load(\"C:/Users/2094072/Downloads/student_personal_data.csv\")\n",
    "spark.sparkContext.setLogLevel(\"ERROR\")\n",
    "df.printSchema()\n",
    "df.createOrReplaceTempView(\"spd\")\n",
    "\n",
    "\n",
    "#student_Marks_data\n",
    "df1 = spark.read.format(\"csv\").option(\"header\", \"true\").option(\"inferSchema\", \"true\").load(\"C:/Users/2094072/Downloads/student_Marks_data.csv\")\n",
    "spark.sparkContext.setLogLevel(\"ERROR\")\n",
    "df1.printSchema()\n",
    "df1.createOrReplaceTempView(\"smd\")\n",
    "\n",
    "\n",
    "#student_Department_Information\n",
    "df3 = spark.read.format(\"csv\").option(\"header\", \"true\").option(\"inferSchema\", \"true\").load(\"C:/Users/2094072/Downloads/Department_Information.csv\")\n",
    "spark.sparkContext.setLogLevel(\"ERROR\")\n",
    "df3.printSchema()\n",
    "df3.createOrReplaceTempView(\"dip\")\n"
   ]
  },
  {
   "cell_type": "code",
   "execution_count": 3,
   "metadata": {},
   "outputs": [
    {
     "name": "stdout",
     "output_type": "stream",
     "text": [
      "Student_Marks_Data_Table_Scema\n",
      "+--------+---------+-------+\n",
      "|col_name|data_type|comment|\n",
      "+--------+---------+-------+\n",
      "| roll_no|      int|   null|\n",
      "|dip_code|      int|   null|\n",
      "|    name|   string|   null|\n",
      "|phone_no|   bigint|   null|\n",
      "|   gmail|   string|   null|\n",
      "| address|   string|   null|\n",
      "+--------+---------+-------+\n",
      "\n",
      "Student_Personal_Data_Table_Scema\n",
      "+--------+---------+-------+\n",
      "|col_name|data_type|comment|\n",
      "+--------+---------+-------+\n",
      "| roll_no|      int|   null|\n",
      "|dip_code|      int|   null|\n",
      "|     Ssc|   double|   null|\n",
      "|     Hsc|   double|   null|\n",
      "|     Gre|   double|   null|\n",
      "|   Staus|   string|   null|\n",
      "|    Year|      int|   null|\n",
      "+--------+---------+-------+\n",
      "\n",
      "student_Department_Information_Table_Scema\n",
      "+--------+---------+-------+\n",
      "|col_name|data_type|comment|\n",
      "+--------+---------+-------+\n",
      "|dip_code|      int|   null|\n",
      "|dip_name|   string|   null|\n",
      "|Capacity|      int|   null|\n",
      "|    fees|      int|   null|\n",
      "|Colleges|      int|   null|\n",
      "+--------+---------+-------+\n",
      "\n"
     ]
    }
   ],
   "source": [
    "print(\"Student_Marks_Data_Table_Scema\")\n",
    "q1 = spark.sql(\"Desc spd\")\n",
    "q1.show()\n",
    "\n",
    "print(\"Student_Personal_Data_Table_Scema\")\n",
    "q2 = spark.sql(\"Desc smd\")\n",
    "q2.show()\n",
    "\n",
    "print(\"student_Department_Information_Table_Scema\")\n",
    "q3 = spark.sql(\"Desc dip\")\n",
    "q3.show()\n",
    "#in hive table staus == status"
   ]
  },
  {
   "cell_type": "code",
   "execution_count": 5,
   "metadata": {},
   "outputs": [
    {
     "name": "stdout",
     "output_type": "stream",
     "text": [
      "+--------------------------------------------------------------------------+--------+-------------------+\n",
      "|dip_name                                                                  |dip_code|Total_Student_COUNT|\n",
      "+--------------------------------------------------------------------------+--------+-------------------+\n",
      "|Aerospace Engineering                                                     |10001   |24923              |\n",
      "|Biosciences and Bioengineering                                            |10002   |25221              |\n",
      "|Chemical Engineering                                                      |10003   |25025              |\n",
      "|Chemistry                                                                 |10004   |24875              |\n",
      "|Civil Engineering                                                         |10005   |25173              |\n",
      "|Computer Science & Engineering                                            |10006   |25032              |\n",
      "|Earth Sciences                                                            |10007   |24828              |\n",
      "|Electrical Engineering                                                    |10008   |25043              |\n",
      "|Energy Science and Engineering                                            |10009   |25257              |\n",
      "|Humanities & Social Science                                               |10010   |24997              |\n",
      "|Mathematics                                                               |10011   |24973              |\n",
      "|Mechanical Engineering                                                    |10012   |24623              |\n",
      "|Metallurgical Engineering & Materials Science                             |10013   |25165              |\n",
      "|Physics                                                                   |10014   |24852              |\n",
      "|Industrial Design Centre                                                  |10015   |25075              |\n",
      "|Application Software Centre (ASC)                                         |10016   |25061              |\n",
      "|Centre for Research in Nanotechnology and Science (CRNTS)                 |10017   |24974              |\n",
      "|Centre for Aerospace Systems Design and Engineering (CASDE)               |10018   |24825              |\n",
      "|Computer Centre (CC)                                                      |10019   |25084              |\n",
      "|Centre for Distance Engineering Education Programme (CDEEP)               |10020   |25148              |\n",
      "|Centre for Environmental Science and Engineering (CESE)                   |10021   |25043              |\n",
      "|Centre for Policy Studies (CPS)                                           |10022   |24911              |\n",
      "|Centre of Studies in Resources Engineering (CSRE)                         |10023   |24872              |\n",
      "|Centre for Technology Alternatives for Rural Areas (CTARA)                |10024   |24874              |\n",
      "|Centre for Formal Design and Verification of Software (CFDVS)             |10025   |25273              |\n",
      "|Centre for Urban Science and Engineering (C-USE)                          |10026   |25229              |\n",
      "|Centre for Entrepreneurship (DSCE)                                        |10027   |24619              |\n",
      "|ABC-EDS Research Academy                                                  |10028   |24929              |\n",
      "|National Centre for Aerospace Innovation and Research (NCAIR)             |10029   |24871              |\n",
      "|National Center of Excellence in Technology for Internal Security (NCETIS)|10030   |24846              |\n",
      "|National Centre for Mathematics (NCM)                                     |10031   |25249              |\n",
      "|Center for Learning and Teaching (PPCCLT)                                 |10032   |25024              |\n",
      "|Sophisticated Analytical Instrument Facility (SAIF)                       |10033   |25314              |\n",
      "|Technology and Design (TCTD)                                              |10034   |25043              |\n",
      "|Centre for Bioengineering (WRCB)                                          |10035   |24798              |\n",
      "|School of Management                                                      |10036   |24974              |\n",
      "|Climate Studies                                                           |10037   |24738              |\n",
      "|Educational Technology                                                    |10038   |24786              |\n",
      "|Industrial Engineering and Operations Research (IEOR)                     |10039   |25074              |\n",
      "|Systems and Control Engineering                                           |10040   |25279              |\n",
      "+--------------------------------------------------------------------------+--------+-------------------+\n",
      "\n",
      "STUDENTS_DEPARTMENTWISE\n"
     ]
    },
    {
     "data": {
      "image/png": "[encoded data removed]",
      "text/plain": [
       "<Figure size 1080x432 with 1 Axes>"
      ]
     },
     "metadata": {
      "needs_background": "light"
     },
     "output_type": "display_data"
    }
   ],
   "source": [
    "#Query::01\n",
    "#how many students Departmentwise ?\n",
    "\n",
    "\n",
    "q4 = spark.sql(\"select dip.dip_name,dip.dip_code,count(*)as Total_Student_COUNT from spd LEFT join smd on (spd.roll_no = smd.roll_no) LEFT join dip on(spd.dip_code = dip.dip_code) group by dip.dip_code,dip.dip_name ORDER BY dip.dip_code;\")\n",
    "q4.show(50, truncate=False)\n",
    "\n",
    "\n",
    "print(\"STUDENTS_DEPARTMENTWISE\")\n",
    "x1 = [i[0] for i in q4.select(\"dip_code\").collect()]\n",
    "\n",
    "#print(testlist)\n",
    "y1 = [i[0] for i in q4.select(\"Total_Student_COUNT\").collect()]\n",
    "#print(FAIL_STUDENT_COUNT)\n",
    "plt.bar(x1,y1,fc=\"BLUE\",ec=\"black\")\n",
    "plt.rcParams['figure.figsize']= 15,6\n",
    "\n",
    "\n",
    "plt.show()\n",
    "\n",
    "\n",
    "\n",
    "\n",
    "\n",
    "\n",
    "\n",
    "\n",
    "\n"
   ]
  },
  {
   "cell_type": "code",
   "execution_count": 52,
   "metadata": {},
   "outputs": [
    {
     "name": "stdout",
     "output_type": "stream",
     "text": [
      "+--------------------------------------------------------------------------+--------+------------------+\n",
      "|dip_name                                                                  |dip_code|PASS_STUDENT_COUNT|\n",
      "+--------------------------------------------------------------------------+--------+------------------+\n",
      "|Aerospace Engineering                                                     |10001   |18350             |\n",
      "|Biosciences and Bioengineering                                            |10002   |18515             |\n",
      "|Chemical Engineering                                                      |10003   |18372             |\n",
      "|Chemistry                                                                 |10004   |18146             |\n",
      "|Civil Engineering                                                         |10005   |18517             |\n",
      "|Computer Science & Engineering                                            |10006   |18401             |\n",
      "|Earth Sciences                                                            |10007   |18190             |\n",
      "|Electrical Engineering                                                    |10008   |18375             |\n",
      "|Energy Science and Engineering                                            |10009   |18537             |\n",
      "|Humanities & Social Science                                               |10010   |18259             |\n",
      "|Mathematics                                                               |10011   |18295             |\n",
      "|Mechanical Engineering                                                    |10012   |18054             |\n",
      "|Metallurgical Engineering & Materials Science                             |10013   |18451             |\n",
      "|Physics                                                                   |10014   |18247             |\n",
      "|Industrial Design Centre                                                  |10015   |18444             |\n",
      "|Application Software Centre (ASC)                                         |10016   |18342             |\n",
      "|Centre for Research in Nanotechnology and Science (CRNTS)                 |10017   |18320             |\n",
      "|Centre for Aerospace Systems Design and Engineering (CASDE)               |10018   |18147             |\n",
      "|Computer Centre (CC)                                                      |10019   |18355             |\n",
      "|Centre for Distance Engineering Education Programme (CDEEP)               |10020   |18607             |\n",
      "|Centre for Environmental Science and Engineering (CESE)                   |10021   |18321             |\n",
      "|Centre for Policy Studies (CPS)                                           |10022   |18409             |\n",
      "|Centre of Studies in Resources Engineering (CSRE)                         |10023   |18254             |\n",
      "|Centre for Technology Alternatives for Rural Areas (CTARA)                |10024   |18217             |\n",
      "|Centre for Formal Design and Verification of Software (CFDVS)             |10025   |18506             |\n",
      "|Centre for Urban Science and Engineering (C-USE)                          |10026   |18489             |\n",
      "|Centre for Entrepreneurship (DSCE)                                        |10027   |17956             |\n",
      "|ABC-EDS Research Academy                                                  |10028   |18348             |\n",
      "|National Centre for Aerospace Innovation and Research (NCAIR)             |10029   |18225             |\n",
      "|National Center of Excellence in Technology for Internal Security (NCETIS)|10030   |18190             |\n",
      "|National Centre for Mathematics (NCM)                                     |10031   |18502             |\n",
      "|Center for Learning and Teaching (PPCCLT)                                 |10032   |18363             |\n",
      "|Sophisticated Analytical Instrument Facility (SAIF)                       |10033   |18641             |\n",
      "|Technology and Design (TCTD)                                              |10034   |18378             |\n",
      "|Centre for Bioengineering (WRCB)                                          |10035   |18270             |\n",
      "|School of Management                                                      |10036   |18316             |\n",
      "|Climate Studies                                                           |10037   |18201             |\n",
      "|Educational Technology                                                    |10038   |18271             |\n",
      "|Industrial Engineering and Operations Research (IEOR)                     |10039   |18399             |\n",
      "|Systems and Control Engineering                                           |10040   |18540             |\n",
      "+--------------------------------------------------------------------------+--------+------------------+\n",
      "\n",
      "PASS_STUDENT_DEPARTMENTWISE IN 2015 To 2020\n"
     ]
    },
    {
     "data": {
      "image/png": "[encoded data removed]",
      "text/plain": [
       "<Figure size 1080x432 with 1 Axes>"
      ]
     },
     "metadata": {
      "needs_background": "light"
     },
     "output_type": "display_data"
    }
   ],
   "source": [
    "#2.How Many Student only Pass Departmentwise in year 2015 to 2020?\n",
    "\n",
    "q5 = spark.sql(\"select dip.dip_name,dip.dip_code,count(*) as PASS_STUDENT_COUNT from spd LEFT join smd on (spd.roll_no = smd.roll_no) LEFT join dip on(spd.dip_code = dip.dip_code) where smd.staus NOT LIKE 'P%' group by dip.dip_code, dip.dip_name ORDER BY dip.dip_code;\")\n",
    "q5.show(50, truncate=False)\n",
    "\n",
    "print(\"PASS_STUDENT_DEPARTMENTWISE IN 2015 To 2020\")\n",
    "x2 = [i[0] for i in q5.select(\"dip_code\").collect()]\n",
    "#print(testlist)\n",
    "y2 = [i[0] for i in q5.select(\"PASS_STUDENT_COUNT\").collect()]\n",
    "#print(FAIL_STUDENT_COUNT)\n",
    "plt.bar(x2,y2,fc=\"GREEN\",ec=\"black\")\n",
    "plt.rcParams['figure.figsize']= 15,6\n",
    "\n",
    "\n",
    "plt.show()"
   ]
  },
  {
   "cell_type": "code",
   "execution_count": 6,
   "metadata": {},
   "outputs": [
    {
     "name": "stdout",
     "output_type": "stream",
     "text": [
      "+--------------------------------------------------------------------------+--------+------------------+\n",
      "|dip_name                                                                  |dip_code|FAIL_STUDENT_COUNT|\n",
      "+--------------------------------------------------------------------------+--------+------------------+\n",
      "|Aerospace Engineering                                                     |10001   |841               |\n",
      "|Biosciences and Bioengineering                                            |10002   |852               |\n",
      "|Chemical Engineering                                                      |10003   |848               |\n",
      "|Chemistry                                                                 |10004   |826               |\n",
      "|Civil Engineering                                                         |10005   |862               |\n",
      "|Computer Science & Engineering                                            |10006   |818               |\n",
      "|Earth Sciences                                                            |10007   |795               |\n",
      "|Electrical Engineering                                                    |10008   |841               |\n",
      "|Energy Science and Engineering                                            |10009   |867               |\n",
      "|Humanities & Social Science                                               |10010   |830               |\n",
      "|Mathematics                                                               |10011   |793               |\n",
      "|Mechanical Engineering                                                    |10012   |823               |\n",
      "|Metallurgical Engineering & Materials Science                             |10013   |873               |\n",
      "|Physics                                                                   |10014   |803               |\n",
      "|Industrial Design Centre                                                  |10015   |828               |\n",
      "|Application Software Centre (ASC)                                         |10016   |875               |\n",
      "|Centre for Research in Nanotechnology and Science (CRNTS)                 |10017   |856               |\n",
      "|Centre for Aerospace Systems Design and Engineering (CASDE)               |10018   |794               |\n",
      "|Computer Centre (CC)                                                      |10019   |798               |\n",
      "|Centre for Distance Engineering Education Programme (CDEEP)               |10020   |850               |\n",
      "|Centre for Environmental Science and Engineering (CESE)                   |10021   |808               |\n",
      "|Centre for Policy Studies (CPS)                                           |10022   |824               |\n",
      "|Centre of Studies in Resources Engineering (CSRE)                         |10023   |841               |\n",
      "|Centre for Technology Alternatives for Rural Areas (CTARA)                |10024   |789               |\n",
      "|Centre for Formal Design and Verification of Software (CFDVS)             |10025   |856               |\n",
      "|Centre for Urban Science and Engineering (C-USE)                          |10026   |845               |\n",
      "|Centre for Entrepreneurship (DSCE)                                        |10027   |811               |\n",
      "|ABC-EDS Research Academy                                                  |10028   |857               |\n",
      "|National Centre for Aerospace Innovation and Research (NCAIR)             |10029   |809               |\n",
      "|National Center of Excellence in Technology for Internal Security (NCETIS)|10030   |866               |\n",
      "|National Centre for Mathematics (NCM)                                     |10031   |819               |\n",
      "|Center for Learning and Teaching (PPCCLT)                                 |10032   |825               |\n",
      "|Sophisticated Analytical Instrument Facility (SAIF)                       |10033   |835               |\n",
      "|Technology and Design (TCTD)                                              |10034   |809               |\n",
      "|Centre for Bioengineering (WRCB)                                          |10035   |798               |\n",
      "|School of Management                                                      |10036   |852               |\n",
      "|Climate Studies                                                           |10037   |768               |\n",
      "|Educational Technology                                                    |10038   |792               |\n",
      "|Industrial Engineering and Operations Research (IEOR)                     |10039   |840               |\n",
      "|Systems and Control Engineering                                           |10040   |844               |\n",
      "+--------------------------------------------------------------------------+--------+------------------+\n",
      "\n",
      "FAIL_STUDENT_DEPARTMENTWISE IN 2015\n"
     ]
    },
    {
     "data": {
      "image/png": "[encoded data removed]",
      "text/plain": [
       "<Figure size 1080x432 with 1 Axes>"
      ]
     },
     "metadata": {
      "needs_background": "light"
     },
     "output_type": "display_data"
    }
   ],
   "source": [
    "\n",
    "#3.How Many Student FAIL Departmentwise in year 2015? \n",
    "\n",
    "from pylab import rcParams\n",
    "\n",
    "q6 = spark.sql(\"select dip.dip_name,dip.dip_code,count(*) as FAIL_STUDENT_COUNT from spd LEFT join smd on (spd.roll_no = smd.roll_no) LEFT join dip on(spd.dip_code = dip.dip_code)where (smd.staus LIKE 'F%' and smd.year = 2015 )group by dip.dip_code,dip.dip_name ORDER BY dip.dip_code;\")\n",
    "q6.show(50, truncate=False)\n",
    "\n",
    "\n",
    "print(\"FAIL_STUDENT_DEPARTMENTWISE IN 2015\")\n",
    "x = [i[0] for i in q6.select(\"dip_code\").collect()]\n",
    "#print(testlist)\n",
    "y = [i[0] for i in q6.select(\"FAIL_STUDENT_COUNT\").collect()]\n",
    "\n",
    "plt.bar(x,y,fc=\"RED\",ec=\"black\")\n",
    "plt.rcParams['figure.figsize']= 20,6\n",
    "plt.show()\n",
    "\n"
   ]
  },
  {
   "cell_type": "code",
   "execution_count": null,
   "metadata": {},
   "outputs": [],
   "source": []
  }
 ],
 "metadata": {
  "kernelspec": {
   "display_name": "Python 2",
   "language": "python",
   "name": "python2"
  },
  "language_info": {
   "codemirror_mode": {
    "name": "ipython",
    "version": 2
   },
   "file_extension": ".py",
   "mimetype": "text/x-python",
   "name": "python",
   "nbconvert_exporter": "python",
   "pygments_lexer": "ipython2",
   "version": "2.7.15"
  }
 },
 "nbformat": 4,
 "nbformat_minor": 2
}
