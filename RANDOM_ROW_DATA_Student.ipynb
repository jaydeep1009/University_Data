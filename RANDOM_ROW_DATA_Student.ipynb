{
 "cells": [
  {
   "cell_type": "code",
   "execution_count": 25,
   "id": "b8ac018d",
   "metadata": {},
   "outputs": [],
   "source": [
    "# STUDENT PERSONAL ROW DATA (USING RANDOM FUNCTION).\n",
    "# DATA STORE IN student_data.csv (5.00.000 ROWS)\n",
    "# PRI KEY :: ROLL_NO\n",
    "# FOR KEY :: D_ID\n",
    "\n",
    "student_personal_data= open(\"student_personal_data\", \"a\")  \n",
    "\n",
    "import random\n",
    "b = ['AdhraPradesh', 'ArunachalPradesh', 'Assam', 'Bihar', 'Chhattisgarh', 'Goa', 'Gujarat', 'Haryana', 'HimachalPradesh', 'Jharkhand', 'Karnataka', 'Kerala', 'MadhyaPradesh', 'Maharashtra', 'Manipur', 'Meghalaya', 'Mizoram', 'Nagaland', 'Odisha', 'Punjab', 'Rajasthan', 'Sikkim', 'TamilNadu', 'Telangana', 'Tripura', 'UttarPradesh', 'Uttarakhand', 'WestBengal']\n",
    "n = ['a','b','c','d','e','f','g','h','i','j','k','l','m','n','o','q','r','s','t','u','v','w','x','y','z']\n",
    "n1= ['A', 'B', 'C', 'D', 'E', 'F', 'G', 'H', 'I', 'J', 'K', 'L', 'M', 'N', 'O', 'Q', 'R', 'S', 'T', 'U', 'V', 'W', 'X', 'Y', 'Z']\n",
    "street_names1 = ['Main', 'High', 'Pearl', 'Maple', 'Park', 'Oak', 'Pine', 'Cedar', 'Elm', 'Washington', 'Lake', 'Hill','Red road']\n",
    "import random\n",
    "for i in range(100,1000000):\n",
    "    fn = f'{random.choice(n1)}{random.choice(n)}{random.choice(n)}{random.choice(n)}'#fistname\n",
    "    ln = f'{random.choice(n1)}{random.choice(n)}{random.choice(n)}{random.choice(n)}'#lastname \n",
    "    city = f'{random.choice(n1)}{random.choice(n)}{random.choice(n)}{random.choice(n)}{random.choice(n)}'#city\n",
    "    state= random.choice(b)#state\n",
    "    zip_code = random.randint(100000, 200000)#zip_code\n",
    "    road = random.choice(street_names1)#road\n",
    "    address = f'{road}_{city}_{state}_{zip_code}'#address \n",
    "    email = fn.lower()+ln.lower()+'@gmail.com'#email\n",
    "    p = f'{random.randint(100, 999)}{random.randint(100,999)}{random.randint(1000,9999)}'#phone number    \n",
    "    did=random.randint(10001, 10040) #Dpt code\n",
    "\n",
    "\n",
    "    print(f'{i},{did},{fn} {ln},{p},{email},{address}')\n",
    "    lz = f'\\n{i},{did},{fn} {ln},{p},{email},{address}'\n",
    "    \n",
    "    \n",
    "    student_personal_data.write(lz)\n",
    "    \n",
    "  \n",
    "student_personal_data.close()\n",
    "\n",
    "\n"
   ]
  },
  {
   "cell_type": "code",
   "execution_count": 28,
   "id": "81008c80",
   "metadata": {},
   "outputs": [],
   "source": [
    "# STUDENT MARKS ROW DATA(USING RANDOM FUNCTION)\n",
    "student_Marks_data= open(\"student_Marks_data\", \"a\")\n",
    "for i in range(100,1000000):   \n",
    "    ssc = round(random.uniform(40.33, 100.00), 2)#ssc\n",
    "    hsc = round(random.uniform(40.33, 100.00), 2)#hsc \n",
    "    gre = round(random.uniform(25.00, 100.00), 2)#gre\n",
    "    #Stutes\n",
    "    if(gre < 40.00):\n",
    "        st=\"F\"\n",
    "    elif(gre >= 40.00 and gre < 60.00):\n",
    "        st=\"P\"\n",
    "    elif(gre >= 60.00 and gre < 85.00):\n",
    "        st=\"A\"\n",
    "    else:\n",
    "        st =\"AA\"\n",
    "    yr =  random.randint(2015,2020)#yr\n",
    "    did=random.randint(10001, 10040)#dip code\n",
    "    #print(f'{i},{did},{ssc},{hsc},{gre},{st},{yr}')\n",
    "    lz = f'\\n{i},{did},{ssc},{hsc},{gre},{st},{yr}'\n",
    "    \n",
    "    \n",
    "    student_Marks_data.write(lz)\n",
    "    \n",
    "  \n",
    "student_Marks_data.close()\n"
   ]
  },
  {
   "cell_type": "code",
   "execution_count": null,
   "id": "a0b7ae79",
   "metadata": {},
   "outputs": [],
   "source": []
  }
 ],
 "metadata": {
  "kernelspec": {
   "display_name": "Python 3",
   "language": "python",
   "name": "python3"
  },
  "language_info": {
   "codemirror_mode": {
    "name": "ipython",
    "version": 3
   },
   "file_extension": ".py",
   "mimetype": "text/x-python",
   "name": "python",
   "nbconvert_exporter": "python",
   "pygments_lexer": "ipython3",
   "version": "3.8.8"
  }
 },
 "nbformat": 4,
 "nbformat_minor": 5
}
